{
 "metadata": {
  "language_info": {
   "codemirror_mode": {
    "name": "ipython",
    "version": 3
   },
   "file_extension": ".py",
   "mimetype": "text/x-python",
   "name": "python",
   "nbconvert_exporter": "python",
   "pygments_lexer": "ipython3",
   "version": "3.8.5-final"
  },
  "orig_nbformat": 2,
  "kernelspec": {
   "name": "python3",
   "display_name": "Python 3",
   "language": "python"
  }
 },
 "nbformat": 4,
 "nbformat_minor": 2,
 "cells": [
  {
   "cell_type": "code",
   "execution_count": 92,
   "metadata": {},
   "outputs": [],
   "source": [
    "import rdflib\n",
    "from rdflib import Graph"
   ]
  },
  {
   "cell_type": "code",
   "execution_count": 93,
   "metadata": {},
   "outputs": [
    {
     "output_type": "stream",
     "name": "stdout",
     "text": [
      "xml\n"
     ]
    },
    {
     "output_type": "execute_result",
     "data": {
      "text/plain": [
       "<Graph identifier=Nabce745c861042c5901a2e537a4f218f (<class 'rdflib.graph.Graph'>)>"
      ]
     },
     "metadata": {},
     "execution_count": 93
    }
   ],
   "source": [
    "g = Graph()\n",
    "Owl_File = \"TransportOntologyTurtle.owl\"\n",
    "\n",
    "#Show the file format\n",
    "print(rdflib.util.guess_format(Owl_File))\n",
    "g.parse(Owl_File, format=\"ttl\")\n"
   ]
  },
  {
   "source": [
    "Testing a Querry "
   ],
   "cell_type": "markdown",
   "metadata": {}
  },
  {
   "cell_type": "code",
   "execution_count": 94,
   "metadata": {},
   "outputs": [
    {
     "output_type": "stream",
     "name": "stdout",
     "text": [
      "http://www.semanticweb.org/kaouter/ontologies/2021/11/untitled-ontology-7#Bouville http://www.w3.org/1999/02/22-rdf-syntax-ns#type http://www.semanticweb.org/kaouter/ontologies/2021/11/untitled-ontology-7#Ville\nhttp://www.semanticweb.org/kaouter/ontologies/2021/11/untitled-ontology-7#Gennevilliers http://www.w3.org/1999/02/22-rdf-syntax-ns#type http://www.w3.org/2002/07/owl#NamedIndividual\nhttp://www.co-ode.org/ontologies/ont.owl#PARCZOOLOGIQUE http://www.semanticweb.org/kaouter/ontologies/2021/11/untitled-ontology-8#est_franchie_par http://www.co-ode.org/ontologies/ont.owl#46\nhttp://www.semanticweb.org/kaouter/ontologies/2021/11/untitled-ontology-7#Rouilly http://www.w3.org/1999/02/22-rdf-syntax-ns#type http://www.w3.org/2002/07/owl#NamedIndividual\nhttp://www.semanticweb.org/kaouter/ontologies/2021/11/untitled-ontology-7#Château-Landon http://www.w3.org/1999/02/22-rdf-syntax-ns#type http://www.w3.org/2002/07/owl#NamedIndividual\nhttp://www.semanticweb.org/kaouter/ontologies/2021/11/untitled-ontology-8#LesBaconnets http://www.w3.org/1999/02/22-rdf-syntax-ns#type http://www.w3.org/2002/07/owl#NamedIndividual\nhttp://www.semanticweb.org/kaouter/ontologies/2021/11/untitled-ontology-7#Mary-sur-Marne http://www.w3.org/1999/02/22-rdf-syntax-ns#type http://www.semanticweb.org/kaouter/ontologies/2021/11/untitled-ontology-7#Ville\nhttp://www.co-ode.org/ontologies/ont.owl#Train http://www.w3.org/2002/07/owl#disjointWith http://www.semanticweb.org/yousra/ontologies/2021/11/untitled-ontology-15#Vélo\nhttp://www.semanticweb.org/kaouter/ontologies/2021/11/untitled-ontology-7#Les_Pavillons-sous-Bois http://www.w3.org/1999/02/22-rdf-syntax-ns#type http://www.semanticweb.org/kaouter/ontologies/2021/11/untitled-ontology-7#Ville\nhttp://www.semanticweb.org/kaouter/ontologies/2021/11/untitled-ontology-7#Saint-Siméon http://www.w3.org/1999/02/22-rdf-syntax-ns#type http://www.w3.org/2002/07/owl#NamedIndividual\nhttp://www.co-ode.org/ontologies/ont.owl#301 http://www.w3.org/1999/02/22-rdf-syntax-ns#type http://www.co-ode.org/ontologies/ont.owl#Bus\n"
     ]
    }
   ],
   "source": [
    "for index, (sub,pred,obj) in enumerate(g):\n",
    "    print(sub,pred,obj)\n",
    "    if index ==10:\n",
    "        break"
   ]
  },
  {
   "source": [
    "Tout les types de transports :"
   ],
   "cell_type": "markdown",
   "metadata": {}
  },
  {
   "cell_type": "code",
   "execution_count": 95,
   "metadata": {},
   "outputs": [
    {
     "output_type": "stream",
     "name": "stdout",
     "text": [
      "(rdflib.term.URIRef('http://www.co-ode.org/ontologies/ont.owl#Bus'),)\n(rdflib.term.URIRef('http://www.co-ode.org/ontologies/ont.owl#Train'),)\n(rdflib.term.URIRef('http://www.semanticweb.org/yousra/ontologies/2021/11/untitled-ontology-15#Metro'),)\n(rdflib.term.URIRef('http://www.semanticweb.org/yousra/ontologies/2021/11/untitled-ontology-15#RER'),)\n(rdflib.term.URIRef('http://www.semanticweb.org/yousra/ontologies/2021/11/untitled-ontology-15#Tram'),)\n(rdflib.term.URIRef('http://www.semanticweb.org/yousra/ontologies/2021/11/untitled-ontology-15#Trottinette'),)\n(rdflib.term.URIRef('http://www.semanticweb.org/yousra/ontologies/2021/11/untitled-ontology-15#Véhicule'),)\n(rdflib.term.URIRef('http://www.semanticweb.org/yousra/ontologies/2021/11/untitled-ontology-15#Vélo'),)\n"
     ]
    }
   ],
   "source": [
    "qres = g.query(\"\"\" \n",
    "PREFIX rdf: <http://www.w3.org/1999/02/22-rdf-syntax-ns#>\n",
    "PREFIX owl: <http://www.w3.org/2002/07/owl#>\n",
    "PREFIX rdfs: <http://www.w3.org/2000/01/rdf-schema#>\n",
    "PREFIX xsd: <http://www.w3.org/2001/XMLSchema#>\n",
    "PREFIX ex: <http://www.semanticweb.org/yousra/ontologies/2021/11/untitled-ontology-15#>\n",
    "SELECT ?subject\n",
    "\tWHERE { ?subject rdfs:subClassOf ex:Transport}\n",
    "\"\"\")\n",
    "for row in qres.result:\n",
    "    print(row)\n",
    "\n"
   ]
  },
  {
   "source": [
    "Les bus pris par Marie :"
   ],
   "cell_type": "markdown",
   "metadata": {}
  },
  {
   "cell_type": "code",
   "execution_count": 96,
   "metadata": {},
   "outputs": [
    {
     "output_type": "stream",
     "name": "stdout",
     "text": [
      "(rdflib.term.URIRef('http://www.co-ode.org/ontologies/ont.owl#46'),)\n"
     ]
    }
   ],
   "source": [
    "qres = g.query(\"\"\" \n",
    "PREFIX rdf: <http://www.w3.org/1999/02/22-rdf-syntax-ns#>\n",
    "PREFIX owl: <http://www.w3.org/2002/07/owl#>\n",
    "PREFIX rdfs: <http://www.w3.org/2000/01/rdf-schema#>\n",
    "PREFIX xsd: <http://www.w3.org/2001/XMLSchema#>\n",
    "PREFIX ex: <http://www.semanticweb.org/yousra/ontologies/2021/11/untitled-ontology-15#>\n",
    "PREFIX ont: <http://www.co-ode.org/ontologies/ont.owl#>\n",
    "SELECT ?object\n",
    "\tWHERE { ?object rdf:type ont:Bus.\n",
    "            ?object  ont:est_pris_par   ont:Marie .\n",
    "}\n",
    "\"\"\")\n",
    "for row in qres.result:\n",
    "    print(row)"
   ]
  },
  {
   "source": [
    "Transports pris par Marie"
   ],
   "cell_type": "markdown",
   "metadata": {}
  },
  {
   "cell_type": "code",
   "execution_count": 97,
   "metadata": {},
   "outputs": [
    {
     "output_type": "stream",
     "name": "stdout",
     "text": [
      "(rdflib.term.URIRef('http://www.co-ode.org/ontologies/ont.owl#Lime'),)\n(rdflib.term.URIRef('http://www.co-ode.org/ontologies/ont.owl#RER_B'),)\n(rdflib.term.URIRef('http://www.co-ode.org/ontologies/ont.owl#ligne_5'),)\n(rdflib.term.URIRef('http://www.co-ode.org/ontologies/ont.owl#46'),)\n"
     ]
    }
   ],
   "source": [
    "qres = g.query(\"\"\"\n",
    "PREFIX rdf: <http://www.w3.org/1999/02/22-rdf-syntax-ns#>\n",
    "PREFIX owl: <http://www.w3.org/2002/07/owl#>\n",
    "PREFIX rdfs: <http://www.w3.org/2000/01/rdf-schema#>\n",
    "PREFIX xsd: <http://www.w3.org/2001/XMLSchema#>\n",
    "PREFIX ex: <http://www.semanticweb.org/yousra/ontologies/2021/11/untitled-ontology-15#>\n",
    "PREFIX ont: <http://www.co-ode.org/ontologies/ont.owl#>\n",
    "SELECT ?object\n",
    "\tWHERE { \n",
    "            ?object  ont:est_pris_par   ont:Marie}\n",
    "\"\"\")\n",
    "for row in qres.result:\n",
    "    print(row)"
   ]
  },
  {
   "cell_type": "code",
   "execution_count": null,
   "metadata": {},
   "outputs": [],
   "source": []
  }
 ]
}