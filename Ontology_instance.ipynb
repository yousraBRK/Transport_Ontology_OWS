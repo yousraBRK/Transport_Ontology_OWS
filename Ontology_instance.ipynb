{
 "metadata": {
  "language_info": {
   "codemirror_mode": {
    "name": "ipython",
    "version": 3
   },
   "file_extension": ".py",
   "mimetype": "text/x-python",
   "name": "python",
   "nbconvert_exporter": "python",
   "pygments_lexer": "ipython3",
   "version": "3.8.5-final"
  },
  "orig_nbformat": 2,
  "kernelspec": {
   "name": "python3",
   "display_name": "Python 3",
   "language": "python"
  }
 },
 "nbformat": 4,
 "nbformat_minor": 2,
 "cells": [
  {
   "cell_type": "code",
   "execution_count": 86,
   "metadata": {},
   "outputs": [],
   "source": [
    "import rdflib\n",
    "from rdflib import Graph"
   ]
  },
  {
   "cell_type": "code",
   "execution_count": 89,
   "metadata": {},
   "outputs": [
    {
     "output_type": "stream",
     "name": "stdout",
     "text": [
      "xml\n"
     ]
    },
    {
     "output_type": "execute_result",
     "data": {
      "text/plain": [
       "<Graph identifier=Nbee60b550427497097386bd6f21e75f4 (<class 'rdflib.graph.Graph'>)>"
      ]
     },
     "metadata": {},
     "execution_count": 89
    }
   ],
   "source": [
    "g = Graph()\n",
    "Owl_File = \"TransportOntologyTurtle.owl\"\n",
    "\n",
    "#Show the file format\n",
    "print(rdflib.util.guess_format(Owl_File))\n",
    "g.parse(Owl_File, format=\"ttl\")\n"
   ]
  },
  {
   "source": [
    "Testing a Querry "
   ],
   "cell_type": "markdown",
   "metadata": {}
  },
  {
   "cell_type": "code",
   "execution_count": 84,
   "metadata": {},
   "outputs": [
    {
     "output_type": "stream",
     "name": "stdout",
     "text": [
      "http://rdf.insee.fr/def/geo#TRIRISpseudoDiffusion http://www.w3.org/2000/01/rdf-schema#subClassOf http://rdf.insee.fr/def/geo#TerritoireStatistiqueFrançais\nhttp://id.insee.fr/codes/geo/typeNomCharniereClair/typeNomCharniereClair/tncc3 http://www.w3.org/2000/01/rdf-schema#comment Le nom a pour article 'la'. Il a pour charnière 'de la'. \nhttp://rdf.insee.fr/def/geo#ZoneDEtudesEtDAmenagementDuTerritoire http://www.w3.org/2000/01/rdf-schema#label zone d’études et d’aménagement du territoire (ZEAT)\nhttp://rdf.insee.fr/def/geo#TerritoireStatistique http://www.w3.org/2000/01/rdf-schema#label territoire statistique français ou européen\nhttp://rdf.insee.fr/def/geo#dateTexte http://www.w3.org/2000/01/rdf-schema#range http://www.w3.org/2001/XMLSchema#date\nhttp://rdf.insee.fr/def/geo#surfaceCedee http://www.w3.org/2000/01/rdf-schema#range http://www.w3.org/2001/XMLSchema#long\nhttp://rdf.insee.fr/def/geo http://purl.org/vocab/vann/preferredNamespacePrefix igeo\nhttp://rdf.insee.fr/def/geo#UniteUrbaine http://www.w3.org/2000/01/rdf-schema#subClassOf http://rdf.insee.fr/def/geo#TerritoireStatistiqueFrançais\nhttp://rdf.insee.fr/def/geo#LAU2 http://www.w3.org/1999/02/22-rdf-syntax-ns#type http://www.w3.org/2002/07/owl#Class\nhttp://rdf.insee.fr/def/geo#codeCommuneDeleguee http://www.w3.org/2000/01/rdf-schema#range http://www.w3.org/2001/XMLSchema#token\nhttp://rdf.insee.fr/def/geo#MetropoleOuAssimilee http://www.w3.org/1999/02/22-rdf-syntax-ns#type http://www.w3.org/2002/07/owl#Class\n"
     ]
    }
   ],
   "source": [
    "for index, (sub,pred,obj) in enumerate(g):\n",
    "    print(sub,pred,obj)\n",
    "    if index ==10:\n",
    "        break"
   ]
  },
  {
   "cell_type": "code",
   "execution_count": 91,
   "metadata": {},
   "outputs": [
    {
     "output_type": "stream",
     "name": "stdout",
     "text": [
      "(rdflib.term.URIRef('http://www.co-ode.org/ontologies/ont.owl#Bus'),)\n(rdflib.term.URIRef('http://www.co-ode.org/ontologies/ont.owl#Train'),)\n(rdflib.term.URIRef('http://www.semanticweb.org/yousra/ontologies/2021/11/untitled-ontology-15#Metro'),)\n(rdflib.term.URIRef('http://www.semanticweb.org/yousra/ontologies/2021/11/untitled-ontology-15#RER'),)\n(rdflib.term.URIRef('http://www.semanticweb.org/yousra/ontologies/2021/11/untitled-ontology-15#Tram'),)\n(rdflib.term.URIRef('http://www.semanticweb.org/yousra/ontologies/2021/11/untitled-ontology-15#Trottinette'),)\n(rdflib.term.URIRef('http://www.semanticweb.org/yousra/ontologies/2021/11/untitled-ontology-15#Véhicule'),)\n(rdflib.term.URIRef('http://www.semanticweb.org/yousra/ontologies/2021/11/untitled-ontology-15#Vélo'),)\n[(rdflib.term.URIRef('http://www.co-ode.org/ontologies/ont.owl#Bus'),), (rdflib.term.URIRef('http://www.co-ode.org/ontologies/ont.owl#Train'),), (rdflib.term.URIRef('http://www.semanticweb.org/yousra/ontologies/2021/11/untitled-ontology-15#Metro'),), (rdflib.term.URIRef('http://www.semanticweb.org/yousra/ontologies/2021/11/untitled-ontology-15#RER'),), (rdflib.term.URIRef('http://www.semanticweb.org/yousra/ontologies/2021/11/untitled-ontology-15#Tram'),), (rdflib.term.URIRef('http://www.semanticweb.org/yousra/ontologies/2021/11/untitled-ontology-15#Trottinette'),), (rdflib.term.URIRef('http://www.semanticweb.org/yousra/ontologies/2021/11/untitled-ontology-15#Véhicule'),), (rdflib.term.URIRef('http://www.semanticweb.org/yousra/ontologies/2021/11/untitled-ontology-15#Vélo'),)]\n"
     ]
    }
   ],
   "source": [
    "qres = g.query(\"\"\" \n",
    "PREFIX rdf: <http://www.w3.org/1999/02/22-rdf-syntax-ns#>\n",
    "PREFIX owl: <http://www.w3.org/2002/07/owl#>\n",
    "PREFIX rdfs: <http://www.w3.org/2000/01/rdf-schema#>\n",
    "PREFIX xsd: <http://www.w3.org/2001/XMLSchema#>\n",
    "PREFIX ex: <http://www.semanticweb.org/yousra/ontologies/2021/11/untitled-ontology-15#>\n",
    "SELECT ?subject\n",
    "\tWHERE { ?subject rdfs:subClassOf ex:Transport}\n",
    "\"\"\")\n",
    "for row in qres.result:\n",
    "    print(row)\n",
    "\n",
    "print(qres.result)"
   ]
  },
  {
   "cell_type": "code",
   "execution_count": null,
   "metadata": {},
   "outputs": [],
   "source": []
  }
 ]
}